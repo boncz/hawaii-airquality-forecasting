{
 "cells": [
  {
   "cell_type": "code",
   "execution_count": 1,
   "id": "4c474f7b",
   "metadata": {},
   "outputs": [],
   "source": [
    "import requests\n",
    "import os\n",
    "import dotenv\n",
    "import pandas as pd"
   ]
  },
  {
   "cell_type": "markdown",
   "id": "344e67cf",
   "metadata": {},
   "source": [
    "Finding Python API information here: https://open-meteo.com/en/docs?latitude=19.7297&longitude=-155.09&hourly=temperature_2m,relative_humidity_2m,precipitation,rain,showers,evapotranspiration,vapour_pressure_deficit,wind_speed_10m,wind_speed_80m,wind_speed_120m,wind_speed_180m,wind_direction_10m,wind_direction_80m,wind_direction_120m,wind_direction_180m,wind_gusts_10m\n",
    "\n",
    "Directions: \n",
    "1) install openmeteo-requests\n",
    "2) install requests-cache retry-requests\n",
    "\n",
    "imports needed to access the API:\n",
    "```python\n",
    "import pandas as pd\n",
    "import requests_cache\n",
    "from retry_requests import retry\n",
    "```\n",
    "\n",
    "Example code template given from the API_docs page:\n",
    "```python\n",
    "# Setup the Open-Meteo API client with cache and retry on error\n",
    "cache_session = requests_cache.CachedSession('.cache', expire_after = 3600)\n",
    "retry_session = retry(cache_session, retries = 5, backoff_factor = 0.2)\n",
    "openmeteo = openmeteo_requests.Client(session = retry_session)\n",
    "\n",
    "# Make sure all required weather variables are listed here\n",
    "# The order of variables in hourly or daily is important to assign them correctly below\n",
    "url = \"https://api.open-meteo.com/v1/forecast\"\n",
    "params = {\n",
    "\t\"latitude\": 19.7297,\n",
    "\t\"longitude\": -155.09,\n",
    "\t\"hourly\": [\"temperature_2m\", \"relative_humidity_2m\", \"precipitation\", \"rain\", \"showers\", \"evapotranspiration\", \"vapour_pressure_deficit\", \"wind_speed_10m\", \"wind_speed_80m\", \"wind_speed_120m\", \"wind_speed_180m\", \"wind_direction_10m\", \"wind_direction_80m\", \"wind_direction_120m\", \"wind_direction_180m\", \"wind_gusts_10m\"],\n",
    "}\n",
    "responses = openmeteo.weather_api(url, params=params)\n",
    "```"
   ]
  },
  {
   "cell_type": "code",
   "execution_count": 3,
   "id": "eecad6ba",
   "metadata": {},
   "outputs": [],
   "source": [
    "# following the tutorial above, starting with appropriate imports:\n",
    "import openmeteo_requests\n",
    "import pandas as pd\n",
    "import requests_cache\n",
    "from retry_requests import retry"
   ]
  },
  {
   "cell_type": "code",
   "execution_count": 8,
   "id": "aebb04ac",
   "metadata": {},
   "outputs": [],
   "source": [
    "# Setup the Open-Meteo API client with cache and retry on error\n",
    "cache_session = requests_cache.CachedSession('.cache', expire_after = 3600)\n",
    "retry_session = retry(cache_session, retries = 5, backoff_factor = 0.2)\n",
    "openmeteo = openmeteo_requests.Client(session = retry_session)\n",
    "\n",
    "# Make sure all required weather variables are listed here\n",
    "# The order of variables in hourly or daily is important to assign them correctly below\n",
    "url = \"https://api.open-meteo.com/v1/forecast\"\n",
    "params = {\n",
    "\t\"latitude\": 19.7297,\n",
    "\t\"longitude\": -155.09,\n",
    "\t\"hourly\": [\"temperature_2m\", \"relative_humidity_2m\", \"precipitation\", \"rain\", \"showers\", \"evapotranspiration\", \"vapour_pressure_deficit\", \"wind_speed_10m\", \"wind_speed_80m\", \"wind_speed_120m\", \"wind_speed_180m\", \"wind_direction_10m\", \"wind_direction_80m\", \"wind_direction_120m\", \"wind_direction_180m\", \"wind_gusts_10m\"],\n",
    "}\n",
    "responses = openmeteo.weather_api(url, params=params)"
   ]
  },
  {
   "cell_type": "markdown",
   "id": "0596a81f",
   "metadata": {},
   "source": [
    "Everything seems to work! Not familiar with this API yet, doing some exploring:"
   ]
  },
  {
   "cell_type": "code",
   "execution_count": 9,
   "id": "5ecb867e",
   "metadata": {},
   "outputs": [
    {
     "data": {
      "text/plain": [
       "list"
      ]
     },
     "execution_count": 9,
     "metadata": {},
     "output_type": "execute_result"
    }
   ],
   "source": [
    "# what format is responses in?\n",
    "type(responses)"
   ]
  },
  {
   "cell_type": "code",
   "execution_count": 14,
   "id": "0f0ea35d",
   "metadata": {},
   "outputs": [
    {
     "name": "stdout",
     "output_type": "stream",
     "text": [
      "1\n"
     ]
    },
    {
     "data": {
      "text/plain": [
       "<openmeteo_sdk.WeatherApiResponse.WeatherApiResponse at 0x1c8b8df5150>"
      ]
     },
     "execution_count": 14,
     "metadata": {},
     "output_type": "execute_result"
    }
   ],
   "source": [
    "# check the length of the list and look at the first item\n",
    "print(len(responses))\n",
    "responses[0]"
   ]
  },
  {
   "cell_type": "markdown",
   "id": "b415ef5d",
   "metadata": {},
   "source": [
    "Ah, ok! So it seems the template builds it this way so that one could put in different cities and get a list of different responses. In this case, there is only one. So we can just convert that single response to json for our data."
   ]
  },
  {
   "cell_type": "code",
   "execution_count": 29,
   "id": "24c097df",
   "metadata": {},
   "outputs": [
    {
     "data": {
      "text/plain": [
       "array([ 66.,  70.,  73.,  76.,  82.,  89.,  90.,  78.,  65.,  68.,  70.,\n",
       "        69.,  69.,  70.,  70.,  69.,  69.,  71.,  71.,  61.,  64.,  62.,\n",
       "        61.,  61.,  66.,  70.,  74.,  78.,  85.,  93.,  94.,  96.,  88.,\n",
       "        79.,  76.,  75.,  75.,  74.,  73.,  73.,  73.,  73.,  66.,  65.,\n",
       "        65.,  60.,  55.,  55.,  58.,  67.,  71.,  72.,  79.,  86.,  88.,\n",
       "        87.,  83.,  80.,  75.,  71.,  73.,  77.,  79.,  80.,  82.,  83.,\n",
       "        78.,  77.,  72.,  68.,  66.,  68.,  71.,  76.,  81.,  86.,  91.,\n",
       "        95.,  95.,  95.,  95.,  94.,  94.,  94.,  94.,  95.,  97.,  96.,\n",
       "        89.,  80.,  72.,  68.,  66.,  65.,  65.,  65.,  67.,  71.,  77.,\n",
       "        82.,  87.,  91.,  95.,  98., 100., 100.,  95.,  88.,  82.,  80.,\n",
       "        80.,  80.,  82.,  85.,  84.,  77.,  66.,  58.,  54.,  52.,  53.,\n",
       "        58.,  65.,  73.,  81.,  88.,  92.,  88.,  81.,  75.,  75.,  77.,\n",
       "        78.,  77.,  76.,  75.,  77.,  80.,  81.,  77.,  71.,  66.,  64.,\n",
       "        63.,  64.,  68.,  73.,  79.,  85.,  91.,  93.,  88.,  80.,  74.,\n",
       "        73.,  75.,  76.,  77.,  77.,  77.,  76.,  75.,  73.,  71.,  69.,\n",
       "        68.,  68.,  69.], dtype=float32)"
      ]
     },
     "execution_count": 29,
     "metadata": {},
     "output_type": "execute_result"
    }
   ],
   "source": [
    "# set data to our response for Hilo, Hawaii\n",
    "data = responses[0]\n",
    "\n",
    "# now I can access any of the parameters we called for - in this example hourly data - the first variable is relative humidity 2m\n",
    "hourly = data.Hourly()\n",
    "hourly.Variables(1).ValuesAsNumpy()"
   ]
  },
  {
   "cell_type": "markdown",
   "id": "3efc4926",
   "metadata": {},
   "source": [
    "All in all this API is very clear and easy to use, with extremely helpful documentation. The code below was generated through the OpenMeteo API docs website after giving it the parameters I wanted to check for. "
   ]
  },
  {
   "cell_type": "code",
   "execution_count": 30,
   "id": "e6992fbc",
   "metadata": {},
   "outputs": [
    {
     "data": {
      "text/html": [
       "<div>\n",
       "<style scoped>\n",
       "    .dataframe tbody tr th:only-of-type {\n",
       "        vertical-align: middle;\n",
       "    }\n",
       "\n",
       "    .dataframe tbody tr th {\n",
       "        vertical-align: top;\n",
       "    }\n",
       "\n",
       "    .dataframe thead th {\n",
       "        text-align: right;\n",
       "    }\n",
       "</style>\n",
       "<table border=\"1\" class=\"dataframe\">\n",
       "  <thead>\n",
       "    <tr style=\"text-align: right;\">\n",
       "      <th></th>\n",
       "      <th>date</th>\n",
       "      <th>temperature_2m</th>\n",
       "      <th>relative_humidity_2m</th>\n",
       "      <th>precipitation</th>\n",
       "      <th>rain</th>\n",
       "      <th>showers</th>\n",
       "      <th>evapotranspiration</th>\n",
       "      <th>vapour_pressure_deficit</th>\n",
       "      <th>wind_speed_10m</th>\n",
       "      <th>wind_speed_80m</th>\n",
       "      <th>wind_speed_120m</th>\n",
       "      <th>wind_speed_180m</th>\n",
       "      <th>wind_direction_10m</th>\n",
       "      <th>wind_direction_80m</th>\n",
       "      <th>wind_direction_120m</th>\n",
       "      <th>wind_direction_180m</th>\n",
       "      <th>wind_gusts_10m</th>\n",
       "    </tr>\n",
       "  </thead>\n",
       "  <tbody>\n",
       "    <tr>\n",
       "      <th>0</th>\n",
       "      <td>2025-09-24 00:00:00+00:00</td>\n",
       "      <td>23.056499</td>\n",
       "      <td>66.0</td>\n",
       "      <td>0.0</td>\n",
       "      <td>0.0</td>\n",
       "      <td>0.0</td>\n",
       "      <td>0.28</td>\n",
       "      <td>0.958428</td>\n",
       "      <td>14.529915</td>\n",
       "      <td>19.346441</td>\n",
       "      <td>20.111729</td>\n",
       "      <td>20.124611</td>\n",
       "      <td>48.012871</td>\n",
       "      <td>44.999897</td>\n",
       "      <td>44.274860</td>\n",
       "      <td>42.825249</td>\n",
       "      <td>31.319998</td>\n",
       "    </tr>\n",
       "    <tr>\n",
       "      <th>1</th>\n",
       "      <td>2025-09-24 01:00:00+00:00</td>\n",
       "      <td>22.406500</td>\n",
       "      <td>70.0</td>\n",
       "      <td>0.0</td>\n",
       "      <td>0.0</td>\n",
       "      <td>0.0</td>\n",
       "      <td>0.20</td>\n",
       "      <td>0.813021</td>\n",
       "      <td>14.264361</td>\n",
       "      <td>19.855560</td>\n",
       "      <td>20.371038</td>\n",
       "      <td>20.898613</td>\n",
       "      <td>47.045418</td>\n",
       "      <td>44.999897</td>\n",
       "      <td>43.567978</td>\n",
       "      <td>42.207226</td>\n",
       "      <td>34.560001</td>\n",
       "    </tr>\n",
       "    <tr>\n",
       "      <th>2</th>\n",
       "      <td>2025-09-24 02:00:00+00:00</td>\n",
       "      <td>21.856501</td>\n",
       "      <td>73.0</td>\n",
       "      <td>0.0</td>\n",
       "      <td>0.0</td>\n",
       "      <td>0.0</td>\n",
       "      <td>0.15</td>\n",
       "      <td>0.707639</td>\n",
       "      <td>12.768586</td>\n",
       "      <td>18.504139</td>\n",
       "      <td>19.083395</td>\n",
       "      <td>19.469976</td>\n",
       "      <td>40.425995</td>\n",
       "      <td>37.092915</td>\n",
       "      <td>35.789059</td>\n",
       "      <td>33.690102</td>\n",
       "      <td>33.119999</td>\n",
       "    </tr>\n",
       "    <tr>\n",
       "      <th>3</th>\n",
       "      <td>2025-09-24 03:00:00+00:00</td>\n",
       "      <td>21.256500</td>\n",
       "      <td>76.0</td>\n",
       "      <td>0.0</td>\n",
       "      <td>0.0</td>\n",
       "      <td>0.0</td>\n",
       "      <td>0.11</td>\n",
       "      <td>0.606373</td>\n",
       "      <td>11.808878</td>\n",
       "      <td>17.673029</td>\n",
       "      <td>18.775303</td>\n",
       "      <td>19.201874</td>\n",
       "      <td>37.568665</td>\n",
       "      <td>33.366394</td>\n",
       "      <td>32.471172</td>\n",
       "      <td>30.411011</td>\n",
       "      <td>29.879999</td>\n",
       "    </tr>\n",
       "    <tr>\n",
       "      <th>4</th>\n",
       "      <td>2025-09-24 04:00:00+00:00</td>\n",
       "      <td>20.106501</td>\n",
       "      <td>82.0</td>\n",
       "      <td>0.0</td>\n",
       "      <td>0.0</td>\n",
       "      <td>0.0</td>\n",
       "      <td>0.04</td>\n",
       "      <td>0.423724</td>\n",
       "      <td>9.339208</td>\n",
       "      <td>16.267857</td>\n",
       "      <td>17.253731</td>\n",
       "      <td>18.118410</td>\n",
       "      <td>27.552727</td>\n",
       "      <td>24.863682</td>\n",
       "      <td>23.355589</td>\n",
       "      <td>20.955858</td>\n",
       "      <td>26.639999</td>\n",
       "    </tr>\n",
       "  </tbody>\n",
       "</table>\n",
       "</div>"
      ],
      "text/plain": [
       "                       date  temperature_2m  relative_humidity_2m  \\\n",
       "0 2025-09-24 00:00:00+00:00       23.056499                  66.0   \n",
       "1 2025-09-24 01:00:00+00:00       22.406500                  70.0   \n",
       "2 2025-09-24 02:00:00+00:00       21.856501                  73.0   \n",
       "3 2025-09-24 03:00:00+00:00       21.256500                  76.0   \n",
       "4 2025-09-24 04:00:00+00:00       20.106501                  82.0   \n",
       "\n",
       "   precipitation  rain  showers  evapotranspiration  vapour_pressure_deficit  \\\n",
       "0            0.0   0.0      0.0                0.28                 0.958428   \n",
       "1            0.0   0.0      0.0                0.20                 0.813021   \n",
       "2            0.0   0.0      0.0                0.15                 0.707639   \n",
       "3            0.0   0.0      0.0                0.11                 0.606373   \n",
       "4            0.0   0.0      0.0                0.04                 0.423724   \n",
       "\n",
       "   wind_speed_10m  wind_speed_80m  wind_speed_120m  wind_speed_180m  \\\n",
       "0       14.529915       19.346441        20.111729        20.124611   \n",
       "1       14.264361       19.855560        20.371038        20.898613   \n",
       "2       12.768586       18.504139        19.083395        19.469976   \n",
       "3       11.808878       17.673029        18.775303        19.201874   \n",
       "4        9.339208       16.267857        17.253731        18.118410   \n",
       "\n",
       "   wind_direction_10m  wind_direction_80m  wind_direction_120m  \\\n",
       "0           48.012871           44.999897            44.274860   \n",
       "1           47.045418           44.999897            43.567978   \n",
       "2           40.425995           37.092915            35.789059   \n",
       "3           37.568665           33.366394            32.471172   \n",
       "4           27.552727           24.863682            23.355589   \n",
       "\n",
       "   wind_direction_180m  wind_gusts_10m  \n",
       "0            42.825249       31.319998  \n",
       "1            42.207226       34.560001  \n",
       "2            33.690102       33.119999  \n",
       "3            30.411011       29.879999  \n",
       "4            20.955858       26.639999  "
      ]
     },
     "execution_count": 30,
     "metadata": {},
     "output_type": "execute_result"
    }
   ],
   "source": [
    "hourly_temperature_2m = hourly.Variables(0).ValuesAsNumpy()\n",
    "hourly_relative_humidity_2m = hourly.Variables(1).ValuesAsNumpy()\n",
    "hourly_precipitation = hourly.Variables(2).ValuesAsNumpy()\n",
    "hourly_rain = hourly.Variables(3).ValuesAsNumpy()\n",
    "hourly_showers = hourly.Variables(4).ValuesAsNumpy()\n",
    "hourly_evapotranspiration = hourly.Variables(5).ValuesAsNumpy()\n",
    "hourly_vapour_pressure_deficit = hourly.Variables(6).ValuesAsNumpy()\n",
    "hourly_wind_speed_10m = hourly.Variables(7).ValuesAsNumpy()\n",
    "hourly_wind_speed_80m = hourly.Variables(8).ValuesAsNumpy()\n",
    "hourly_wind_speed_120m = hourly.Variables(9).ValuesAsNumpy()\n",
    "hourly_wind_speed_180m = hourly.Variables(10).ValuesAsNumpy()\n",
    "hourly_wind_direction_10m = hourly.Variables(11).ValuesAsNumpy()\n",
    "hourly_wind_direction_80m = hourly.Variables(12).ValuesAsNumpy()\n",
    "hourly_wind_direction_120m = hourly.Variables(13).ValuesAsNumpy()\n",
    "hourly_wind_direction_180m = hourly.Variables(14).ValuesAsNumpy()\n",
    "hourly_wind_gusts_10m = hourly.Variables(15).ValuesAsNumpy()\n",
    "\n",
    "hourly_data = {\"date\": pd.date_range(\n",
    "\tstart = pd.to_datetime(hourly.Time(), unit = \"s\", utc = True),\n",
    "\tend = pd.to_datetime(hourly.TimeEnd(), unit = \"s\", utc = True),\n",
    "\tfreq = pd.Timedelta(seconds = hourly.Interval()),\n",
    "\tinclusive = \"left\"\n",
    ")}\n",
    "\n",
    "hourly_data[\"temperature_2m\"] = hourly_temperature_2m\n",
    "hourly_data[\"relative_humidity_2m\"] = hourly_relative_humidity_2m\n",
    "hourly_data[\"precipitation\"] = hourly_precipitation\n",
    "hourly_data[\"rain\"] = hourly_rain\n",
    "hourly_data[\"showers\"] = hourly_showers\n",
    "hourly_data[\"evapotranspiration\"] = hourly_evapotranspiration\n",
    "hourly_data[\"vapour_pressure_deficit\"] = hourly_vapour_pressure_deficit\n",
    "hourly_data[\"wind_speed_10m\"] = hourly_wind_speed_10m\n",
    "hourly_data[\"wind_speed_80m\"] = hourly_wind_speed_80m\n",
    "hourly_data[\"wind_speed_120m\"] = hourly_wind_speed_120m\n",
    "hourly_data[\"wind_speed_180m\"] = hourly_wind_speed_180m\n",
    "hourly_data[\"wind_direction_10m\"] = hourly_wind_direction_10m\n",
    "hourly_data[\"wind_direction_80m\"] = hourly_wind_direction_80m\n",
    "hourly_data[\"wind_direction_120m\"] = hourly_wind_direction_120m\n",
    "hourly_data[\"wind_direction_180m\"] = hourly_wind_direction_180m\n",
    "hourly_data[\"wind_gusts_10m\"] = hourly_wind_gusts_10m\n",
    "\n",
    "hourly_dataframe = pd.DataFrame(data = hourly_data)\n",
    "hourly_dataframe.head()"
   ]
  },
  {
   "cell_type": "code",
   "execution_count": null,
   "id": "715976c6",
   "metadata": {},
   "outputs": [],
   "source": []
  }
 ],
 "metadata": {
  "kernelspec": {
   "display_name": "venv (3.13.5)",
   "language": "python",
   "name": "python3"
  },
  "language_info": {
   "codemirror_mode": {
    "name": "ipython",
    "version": 3
   },
   "file_extension": ".py",
   "mimetype": "text/x-python",
   "name": "python",
   "nbconvert_exporter": "python",
   "pygments_lexer": "ipython3",
   "version": "3.13.5"
  }
 },
 "nbformat": 4,
 "nbformat_minor": 5
}
