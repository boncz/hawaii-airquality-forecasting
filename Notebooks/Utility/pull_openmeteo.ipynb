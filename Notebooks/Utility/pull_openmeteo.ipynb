{
 "cells": [
  {
   "cell_type": "markdown",
   "id": "344e67cf",
   "metadata": {},
   "source": [
    "Finding Python API information here: https://open-meteo.com/en/docs?latitude=19.7297&longitude=-155.09&hourly=temperature_2m,relative_humidity_2m,precipitation,rain,showers,evapotranspiration,vapour_pressure_deficit,wind_speed_10m,wind_speed_80m,wind_speed_120m,wind_speed_180m,wind_direction_10m,wind_direction_80m,wind_direction_120m,wind_direction_180m,wind_gusts_10m\n",
    "\n",
    "Directions: \n",
    "1) install openmeteo-requests\n",
    "2) install requests-cache retry-requests\n",
    "\n",
    "imports needed to access the API:\n",
    "```python\n",
    "import pandas as pd\n",
    "import requests_cache\n",
    "from retry_requests import retry\n",
    "```\n",
    "\n",
    "Example code template given from the API_docs page:\n",
    "```python\n",
    "# Setup the Open-Meteo API client with cache and retry on error\n",
    "cache_session = requests_cache.CachedSession('.cache', expire_after = 3600)\n",
    "retry_session = retry(cache_session, retries = 5, backoff_factor = 0.2)\n",
    "openmeteo = openmeteo_requests.Client(session = retry_session)\n",
    "\n",
    "# Make sure all required weather variables are listed here\n",
    "# The order of variables in hourly or daily is important to assign them correctly below\n",
    "url = \"https://api.open-meteo.com/v1/forecast\"\n",
    "params = {\n",
    "\t\"latitude\": 19.7297,\n",
    "\t\"longitude\": -155.09,\n",
    "\t\"hourly\": [\"temperature_2m\", \"relative_humidity_2m\", \"precipitation\", \"rain\", \"showers\", \"evapotranspiration\", \"vapour_pressure_deficit\", \"wind_speed_10m\", \"wind_speed_80m\", \"wind_speed_120m\", \"wind_speed_180m\", \"wind_direction_10m\", \"wind_direction_80m\", \"wind_direction_120m\", \"wind_direction_180m\", \"wind_gusts_10m\"],\n",
    "}\n",
    "responses = openmeteo.weather_api(url, params=params)\n",
    "```"
   ]
  },
  {
   "cell_type": "code",
   "execution_count": 10,
   "id": "eecad6ba",
   "metadata": {},
   "outputs": [],
   "source": [
    "# following the tutorial above, starting with appropriate imports:\n",
    "import openmeteo_requests\n",
    "import pandas as pd\n",
    "import requests_cache\n",
    "from retry_requests import retry"
   ]
  },
  {
   "cell_type": "code",
   "execution_count": 11,
   "id": "aebb04ac",
   "metadata": {},
   "outputs": [],
   "source": [
    "# Setup the Open-Meteo API client with cache and retry on error\n",
    "cache_session = requests_cache.CachedSession('.cache', expire_after = 3600)\n",
    "retry_session = retry(cache_session, retries = 5, backoff_factor = 0.2)\n",
    "openmeteo = openmeteo_requests.Client(session = retry_session)\n",
    "\n",
    "# Make sure all required weather variables are listed here\n",
    "# The order of variables in hourly or daily is important to assign them correctly below\n",
    "url = \"https://api.open-meteo.com/v1/forecast\"\n",
    "params = {\n",
    "\t\"latitude\": 19.7297,\n",
    "\t\"longitude\": -155.09,\n",
    "\t\"hourly\": [\"temperature_2m\", \"relative_humidity_2m\", \"precipitation\", \"rain\", \"showers\", \"evapotranspiration\", \"vapour_pressure_deficit\", \"wind_speed_10m\", \"wind_speed_80m\", \"wind_speed_120m\", \"wind_speed_180m\", \"wind_direction_10m\", \"wind_direction_80m\", \"wind_direction_120m\", \"wind_direction_180m\", \"wind_gusts_10m\"],\n",
    "}\n",
    "responses = openmeteo.weather_api(url, params=params)"
   ]
  },
  {
   "cell_type": "markdown",
   "id": "0596a81f",
   "metadata": {},
   "source": [
    "Everything seems to work! Not familiar with this API yet, doing some exploring:"
   ]
  },
  {
   "cell_type": "code",
   "execution_count": 12,
   "id": "5ecb867e",
   "metadata": {},
   "outputs": [
    {
     "data": {
      "text/plain": [
       "list"
      ]
     },
     "execution_count": 12,
     "metadata": {},
     "output_type": "execute_result"
    }
   ],
   "source": [
    "# what format is responses in?\n",
    "type(responses)"
   ]
  },
  {
   "cell_type": "code",
   "execution_count": 13,
   "id": "0f0ea35d",
   "metadata": {},
   "outputs": [
    {
     "name": "stdout",
     "output_type": "stream",
     "text": [
      "1\n"
     ]
    },
    {
     "data": {
      "text/plain": [
       "<openmeteo_sdk.WeatherApiResponse.WeatherApiResponse at 0x22dbfc79ba0>"
      ]
     },
     "execution_count": 13,
     "metadata": {},
     "output_type": "execute_result"
    }
   ],
   "source": [
    "# check the length of the list and look at the first item\n",
    "print(len(responses))\n",
    "responses[0]"
   ]
  },
  {
   "cell_type": "markdown",
   "id": "b415ef5d",
   "metadata": {},
   "source": [
    "Ah, ok! So it seems the template builds it this way so that one could put in different cities and get a list of different responses. In this case, there is only one. So we can just convert that single response to json for our data."
   ]
  },
  {
   "cell_type": "code",
   "execution_count": 14,
   "id": "24c097df",
   "metadata": {},
   "outputs": [
    {
     "data": {
      "text/plain": [
       "array([ 66.,  73.,  76.,  77.,  83.,  89.,  94.,  96.,  96.,  90.,  82.,\n",
       "        78.,  77.,  78.,  79.,  80.,  80.,  77.,  69.,  70.,  67.,  63.,\n",
       "        61.,  57.,  54.,  57.,  62.,  69.,  75.,  81.,  83.,  83.,  81.,\n",
       "        75.,  70.,  69.,  70.,  72.,  72.,  72.,  73.,  73.,  71.,  75.,\n",
       "        78.,  82.,  78.,  76.,  76.,  77.,  81.,  82.,  85.,  90.,  94.,\n",
       "        95.,  97., 100., 100.,  99.,  96.,  96.,  96.,  95.,  93.,  91.,\n",
       "        89.,  83.,  77.,  73.,  66.,  64.,  67.,  72.,  77.,  82.,  88.,\n",
       "        91.,  94.,  97.,  99., 100., 100., 100.,  98.,  92.,  84.,  78.,\n",
       "        77.,  77.,  77.,  74.,  71.,  67.,  63.,  59.,  57.,  60.,  65.,\n",
       "        71.,  79.,  88.,  94.,  93.,  88.,  84.,  82.,  80.,  78.,  76.,\n",
       "        75.,  73.,  70.,  67.,  64.,  60.,  56.,  53.,  52.,  52.,  55.,\n",
       "        61.,  70.,  78.,  84.,  89.,  92.,  90.,  85.,  82.,  82.,  85.,\n",
       "        86.,  86.,  86.,  85.,  83.,  80.,  76.,  70.,  63.,  59.,  58.,\n",
       "        60.,  63.,  68.,  74.,  80.,  86.,  91.,  93.,  90.,  85.,  81.,\n",
       "        82.,  85.,  88.,  90.,  93.,  94.,  95.,  95.,  92.,  84.,  73.,\n",
       "        65.,  64.,  66.], dtype=float32)"
      ]
     },
     "execution_count": 14,
     "metadata": {},
     "output_type": "execute_result"
    }
   ],
   "source": [
    "# set data to our response for Hilo, Hawaii\n",
    "data = responses[0]\n",
    "\n",
    "# now I can access any of the parameters we called for - in this example hourly data - the first variable is relative humidity 2m\n",
    "hourly = data.Hourly()\n",
    "hourly.Variables(1).ValuesAsNumpy()"
   ]
  },
  {
   "cell_type": "code",
   "execution_count": 15,
   "id": "2b2a7e76",
   "metadata": {},
   "outputs": [],
   "source": [
    "# and to be able to link with other data based on location and time, I need to also retrieve the lat/long information\n",
    "lat = data.Latitude()\n",
    "long = data.Longitude()\n",
    "elevation = data.Elevation()\n"
   ]
  },
  {
   "cell_type": "markdown",
   "id": "3efc4926",
   "metadata": {},
   "source": [
    "All in all this API is very clear and easy to use, with extremely helpful documentation. The code below was generated through the OpenMeteo API docs website after giving it the parameters I wanted to check for. "
   ]
  },
  {
   "cell_type": "code",
   "execution_count": 16,
   "id": "e6992fbc",
   "metadata": {},
   "outputs": [
    {
     "data": {
      "text/html": [
       "<div>\n",
       "<style scoped>\n",
       "    .dataframe tbody tr th:only-of-type {\n",
       "        vertical-align: middle;\n",
       "    }\n",
       "\n",
       "    .dataframe tbody tr th {\n",
       "        vertical-align: top;\n",
       "    }\n",
       "\n",
       "    .dataframe thead th {\n",
       "        text-align: right;\n",
       "    }\n",
       "</style>\n",
       "<table border=\"1\" class=\"dataframe\">\n",
       "  <thead>\n",
       "    <tr style=\"text-align: right;\">\n",
       "      <th></th>\n",
       "      <th>date</th>\n",
       "      <th>temperature_2m</th>\n",
       "      <th>relative_humidity_2m</th>\n",
       "      <th>precipitation</th>\n",
       "      <th>rain</th>\n",
       "      <th>showers</th>\n",
       "      <th>evapotranspiration</th>\n",
       "      <th>vapour_pressure_deficit</th>\n",
       "      <th>wind_speed_10m</th>\n",
       "      <th>wind_speed_80m</th>\n",
       "      <th>wind_speed_120m</th>\n",
       "      <th>wind_speed_180m</th>\n",
       "      <th>wind_direction_10m</th>\n",
       "      <th>wind_direction_80m</th>\n",
       "      <th>wind_direction_120m</th>\n",
       "      <th>wind_direction_180m</th>\n",
       "      <th>wind_gusts_10m</th>\n",
       "    </tr>\n",
       "  </thead>\n",
       "  <tbody>\n",
       "    <tr>\n",
       "      <th>0</th>\n",
       "      <td>2025-09-25 00:00:00+00:00</td>\n",
       "      <td>23.906500</td>\n",
       "      <td>66.0</td>\n",
       "      <td>0.0</td>\n",
       "      <td>0.0</td>\n",
       "      <td>0.0</td>\n",
       "      <td>0.20</td>\n",
       "      <td>1.008685</td>\n",
       "      <td>12.889810</td>\n",
       "      <td>16.992609</td>\n",
       "      <td>17.208603</td>\n",
       "      <td>16.923830</td>\n",
       "      <td>54.090195</td>\n",
       "      <td>53.615551</td>\n",
       "      <td>52.650585</td>\n",
       "      <td>51.911175</td>\n",
       "      <td>32.760002</td>\n",
       "    </tr>\n",
       "    <tr>\n",
       "      <th>1</th>\n",
       "      <td>2025-09-25 01:00:00+00:00</td>\n",
       "      <td>22.856501</td>\n",
       "      <td>73.0</td>\n",
       "      <td>0.0</td>\n",
       "      <td>0.0</td>\n",
       "      <td>0.0</td>\n",
       "      <td>0.13</td>\n",
       "      <td>0.751881</td>\n",
       "      <td>11.885453</td>\n",
       "      <td>15.696165</td>\n",
       "      <td>15.913465</td>\n",
       "      <td>16.135872</td>\n",
       "      <td>54.865723</td>\n",
       "      <td>53.392834</td>\n",
       "      <td>52.352322</td>\n",
       "      <td>51.340172</td>\n",
       "      <td>30.960001</td>\n",
       "    </tr>\n",
       "    <tr>\n",
       "      <th>2</th>\n",
       "      <td>2025-09-25 02:00:00+00:00</td>\n",
       "      <td>22.306499</td>\n",
       "      <td>76.0</td>\n",
       "      <td>0.0</td>\n",
       "      <td>0.0</td>\n",
       "      <td>0.0</td>\n",
       "      <td>0.09</td>\n",
       "      <td>0.646420</td>\n",
       "      <td>10.233123</td>\n",
       "      <td>13.513193</td>\n",
       "      <td>14.003028</td>\n",
       "      <td>14.003028</td>\n",
       "      <td>50.710617</td>\n",
       "      <td>48.239799</td>\n",
       "      <td>46.041542</td>\n",
       "      <td>43.958473</td>\n",
       "      <td>27.719999</td>\n",
       "    </tr>\n",
       "    <tr>\n",
       "      <th>3</th>\n",
       "      <td>2025-09-25 03:00:00+00:00</td>\n",
       "      <td>21.856501</td>\n",
       "      <td>77.0</td>\n",
       "      <td>0.0</td>\n",
       "      <td>0.0</td>\n",
       "      <td>0.0</td>\n",
       "      <td>0.06</td>\n",
       "      <td>0.602765</td>\n",
       "      <td>8.669949</td>\n",
       "      <td>12.218805</td>\n",
       "      <td>12.475961</td>\n",
       "      <td>12.496718</td>\n",
       "      <td>48.366554</td>\n",
       "      <td>44.999897</td>\n",
       "      <td>43.830952</td>\n",
       "      <td>41.496380</td>\n",
       "      <td>24.119999</td>\n",
       "    </tr>\n",
       "    <tr>\n",
       "      <th>4</th>\n",
       "      <td>2025-09-25 04:00:00+00:00</td>\n",
       "      <td>20.956501</td>\n",
       "      <td>83.0</td>\n",
       "      <td>0.0</td>\n",
       "      <td>0.0</td>\n",
       "      <td>0.0</td>\n",
       "      <td>0.03</td>\n",
       "      <td>0.421652</td>\n",
       "      <td>5.860375</td>\n",
       "      <td>9.178235</td>\n",
       "      <td>9.220499</td>\n",
       "      <td>9.290511</td>\n",
       "      <td>47.489597</td>\n",
       "      <td>41.820091</td>\n",
       "      <td>38.659828</td>\n",
       "      <td>35.537766</td>\n",
       "      <td>20.519999</td>\n",
       "    </tr>\n",
       "  </tbody>\n",
       "</table>\n",
       "</div>"
      ],
      "text/plain": [
       "                       date  temperature_2m  relative_humidity_2m  \\\n",
       "0 2025-09-25 00:00:00+00:00       23.906500                  66.0   \n",
       "1 2025-09-25 01:00:00+00:00       22.856501                  73.0   \n",
       "2 2025-09-25 02:00:00+00:00       22.306499                  76.0   \n",
       "3 2025-09-25 03:00:00+00:00       21.856501                  77.0   \n",
       "4 2025-09-25 04:00:00+00:00       20.956501                  83.0   \n",
       "\n",
       "   precipitation  rain  showers  evapotranspiration  vapour_pressure_deficit  \\\n",
       "0            0.0   0.0      0.0                0.20                 1.008685   \n",
       "1            0.0   0.0      0.0                0.13                 0.751881   \n",
       "2            0.0   0.0      0.0                0.09                 0.646420   \n",
       "3            0.0   0.0      0.0                0.06                 0.602765   \n",
       "4            0.0   0.0      0.0                0.03                 0.421652   \n",
       "\n",
       "   wind_speed_10m  wind_speed_80m  wind_speed_120m  wind_speed_180m  \\\n",
       "0       12.889810       16.992609        17.208603        16.923830   \n",
       "1       11.885453       15.696165        15.913465        16.135872   \n",
       "2       10.233123       13.513193        14.003028        14.003028   \n",
       "3        8.669949       12.218805        12.475961        12.496718   \n",
       "4        5.860375        9.178235         9.220499         9.290511   \n",
       "\n",
       "   wind_direction_10m  wind_direction_80m  wind_direction_120m  \\\n",
       "0           54.090195           53.615551            52.650585   \n",
       "1           54.865723           53.392834            52.352322   \n",
       "2           50.710617           48.239799            46.041542   \n",
       "3           48.366554           44.999897            43.830952   \n",
       "4           47.489597           41.820091            38.659828   \n",
       "\n",
       "   wind_direction_180m  wind_gusts_10m  \n",
       "0            51.911175       32.760002  \n",
       "1            51.340172       30.960001  \n",
       "2            43.958473       27.719999  \n",
       "3            41.496380       24.119999  \n",
       "4            35.537766       20.519999  "
      ]
     },
     "execution_count": 16,
     "metadata": {},
     "output_type": "execute_result"
    }
   ],
   "source": [
    "hourly_temperature_2m = hourly.Variables(0).ValuesAsNumpy()\n",
    "hourly_relative_humidity_2m = hourly.Variables(1).ValuesAsNumpy()\n",
    "hourly_precipitation = hourly.Variables(2).ValuesAsNumpy()\n",
    "hourly_rain = hourly.Variables(3).ValuesAsNumpy()\n",
    "hourly_showers = hourly.Variables(4).ValuesAsNumpy()\n",
    "hourly_evapotranspiration = hourly.Variables(5).ValuesAsNumpy()\n",
    "hourly_vapour_pressure_deficit = hourly.Variables(6).ValuesAsNumpy()\n",
    "hourly_wind_speed_10m = hourly.Variables(7).ValuesAsNumpy()\n",
    "hourly_wind_speed_80m = hourly.Variables(8).ValuesAsNumpy()\n",
    "hourly_wind_speed_120m = hourly.Variables(9).ValuesAsNumpy()\n",
    "hourly_wind_speed_180m = hourly.Variables(10).ValuesAsNumpy()\n",
    "hourly_wind_direction_10m = hourly.Variables(11).ValuesAsNumpy()\n",
    "hourly_wind_direction_80m = hourly.Variables(12).ValuesAsNumpy()\n",
    "hourly_wind_direction_120m = hourly.Variables(13).ValuesAsNumpy()\n",
    "hourly_wind_direction_180m = hourly.Variables(14).ValuesAsNumpy()\n",
    "hourly_wind_gusts_10m = hourly.Variables(15).ValuesAsNumpy()\n",
    "\n",
    "hourly_data = {\"date\": pd.date_range(\n",
    "\tstart = pd.to_datetime(hourly.Time(), unit = \"s\", utc = True),\n",
    "\tend = pd.to_datetime(hourly.TimeEnd(), unit = \"s\", utc = True),\n",
    "\tfreq = pd.Timedelta(seconds = hourly.Interval()),\n",
    "\tinclusive = \"left\"\n",
    ")}\n",
    "\n",
    "hourly_data[\"temperature_2m\"] = hourly_temperature_2m\n",
    "hourly_data[\"relative_humidity_2m\"] = hourly_relative_humidity_2m\n",
    "hourly_data[\"precipitation\"] = hourly_precipitation\n",
    "hourly_data[\"rain\"] = hourly_rain\n",
    "hourly_data[\"showers\"] = hourly_showers\n",
    "hourly_data[\"evapotranspiration\"] = hourly_evapotranspiration\n",
    "hourly_data[\"vapour_pressure_deficit\"] = hourly_vapour_pressure_deficit\n",
    "hourly_data[\"wind_speed_10m\"] = hourly_wind_speed_10m\n",
    "hourly_data[\"wind_speed_80m\"] = hourly_wind_speed_80m\n",
    "hourly_data[\"wind_speed_120m\"] = hourly_wind_speed_120m\n",
    "hourly_data[\"wind_speed_180m\"] = hourly_wind_speed_180m\n",
    "hourly_data[\"wind_direction_10m\"] = hourly_wind_direction_10m\n",
    "hourly_data[\"wind_direction_80m\"] = hourly_wind_direction_80m\n",
    "hourly_data[\"wind_direction_120m\"] = hourly_wind_direction_120m\n",
    "hourly_data[\"wind_direction_180m\"] = hourly_wind_direction_180m\n",
    "hourly_data[\"wind_gusts_10m\"] = hourly_wind_gusts_10m\n",
    "\n",
    "hourly_dataframe = pd.DataFrame(data = hourly_data)\n",
    "hourly_dataframe.head()"
   ]
  },
  {
   "cell_type": "code",
   "execution_count": 17,
   "id": "acf679b4",
   "metadata": {},
   "outputs": [],
   "source": [
    "hourly_dataframe.to_csv(\"../../Data/Raw/openmeteo_sample_9_24_25.csv\")"
   ]
  }
 ],
 "metadata": {
  "kernelspec": {
   "display_name": "venv (3.13.5)",
   "language": "python",
   "name": "python3"
  },
  "language_info": {
   "codemirror_mode": {
    "name": "ipython",
    "version": 3
   },
   "file_extension": ".py",
   "mimetype": "text/x-python",
   "name": "python",
   "nbconvert_exporter": "python",
   "pygments_lexer": "ipython3",
   "version": "3.13.5"
  }
 },
 "nbformat": 4,
 "nbformat_minor": 5
}
