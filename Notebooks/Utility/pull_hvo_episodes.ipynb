{
 "cells": [
  {
   "cell_type": "code",
   "execution_count": 3,
   "id": "70bda1e0",
   "metadata": {},
   "outputs": [],
   "source": [
    "import requests\n",
    "import pandas as pd\n",
    "import pathlib as p\n",
    "from datetime import datetime, timezone"
   ]
  },
  {
   "cell_type": "code",
   "execution_count": 15,
   "id": "cd0775d2",
   "metadata": {},
   "outputs": [
    {
     "data": {
      "text/plain": [
       "200"
      ]
     },
     "execution_count": 15,
     "metadata": {},
     "output_type": "execute_result"
    }
   ],
   "source": [
    "# current information for Kilauea\n",
    "url = f\"https://volcanoes.usgs.gov/vsc/api/volcanoApi/vhpstatus/332010\"\n",
    "response = requests.get(url, timeout=20)\n",
    "response.status_code"
   ]
  },
  {
   "cell_type": "code",
   "execution_count": 20,
   "id": "ee03b460",
   "metadata": {},
   "outputs": [
    {
     "data": {
      "text/plain": [
       "{'vName': 'Kilauea',\n",
       " 'lat': 19.421,\n",
       " 'long': -155.287,\n",
       " 'vnum': '332010',\n",
       " 'volcanoCd': 'hi3',\n",
       " 'vUrl': 'https://www.usgs.gov/volcanoes/kilauea',\n",
       " 'vImage': 'https://volcanoes.usgs.gov/vsc/images/kilauea/kilauea.jpg',\n",
       " 'obs': 'hvo',\n",
       " 'region': 'Hawaii',\n",
       " 'noticeId': 'DOI-USGS-HVO-2025-09-24T18:46:03+00:00',\n",
       " 'noticeSynopsis': 'HVO Kilauea ORANGE/WATCH - The Halemaʻumaʻu eruption of Kīlauea is currently paused after episode 33 ended on September 19. Episode 34 is likely to start between Sep 28 and Oct 1.',\n",
       " 'alertLevel': 'WATCH',\n",
       " 'colorCode': 'ORANGE',\n",
       " 'statusIconUrl': 'https://volcanoes.usgs.gov/images/icons/map/orange_watch.png',\n",
       " 'alertDate': '2025-09-24 18:50:02',\n",
       " 'colorDate': '2025-09-24 18:50:02',\n",
       " 'noticeUrl': 'https://volcanoes.usgs.gov/hans2/view/notice/DOI-USGS-HVO-2025-09-24T18:46:03+00:00',\n",
       " 'noticeSectionData': 'https://volcanoes.usgs.gov/vsc/api/hansApi/noticeSection/DOI-USGS-HVO-2025-09-24T18:46:03+00:00',\n",
       " 'nvewsThreat': 'Very High Threat'}"
      ]
     },
     "execution_count": 20,
     "metadata": {},
     "output_type": "execute_result"
    }
   ],
   "source": [
    "data = response.json()\n",
    "data"
   ]
  },
  {
   "cell_type": "code",
   "execution_count": 22,
   "id": "253a01cd",
   "metadata": {},
   "outputs": [
    {
     "data": {
      "text/html": [
       "<div>\n",
       "<style scoped>\n",
       "    .dataframe tbody tr th:only-of-type {\n",
       "        vertical-align: middle;\n",
       "    }\n",
       "\n",
       "    .dataframe tbody tr th {\n",
       "        vertical-align: top;\n",
       "    }\n",
       "\n",
       "    .dataframe thead th {\n",
       "        text-align: right;\n",
       "    }\n",
       "</style>\n",
       "<table border=\"1\" class=\"dataframe\">\n",
       "  <thead>\n",
       "    <tr style=\"text-align: right;\">\n",
       "      <th></th>\n",
       "      <th>vName</th>\n",
       "      <th>lat</th>\n",
       "      <th>long</th>\n",
       "      <th>vnum</th>\n",
       "      <th>volcanoCd</th>\n",
       "      <th>vUrl</th>\n",
       "      <th>vImage</th>\n",
       "      <th>obs</th>\n",
       "      <th>region</th>\n",
       "      <th>noticeId</th>\n",
       "      <th>noticeSynopsis</th>\n",
       "      <th>alertLevel</th>\n",
       "      <th>colorCode</th>\n",
       "      <th>statusIconUrl</th>\n",
       "      <th>alertDate</th>\n",
       "      <th>colorDate</th>\n",
       "      <th>noticeUrl</th>\n",
       "      <th>noticeSectionData</th>\n",
       "      <th>nvewsThreat</th>\n",
       "    </tr>\n",
       "  </thead>\n",
       "  <tbody>\n",
       "    <tr>\n",
       "      <th>0</th>\n",
       "      <td>Kilauea</td>\n",
       "      <td>19.421</td>\n",
       "      <td>-155.287</td>\n",
       "      <td>332010</td>\n",
       "      <td>hi3</td>\n",
       "      <td>https://www.usgs.gov/volcanoes/kilauea</td>\n",
       "      <td>https://volcanoes.usgs.gov/vsc/images/kilauea/...</td>\n",
       "      <td>hvo</td>\n",
       "      <td>Hawaii</td>\n",
       "      <td>DOI-USGS-HVO-2025-09-24T18:46:03+00:00</td>\n",
       "      <td>HVO Kilauea ORANGE/WATCH - The Halemaʻumaʻu er...</td>\n",
       "      <td>WATCH</td>\n",
       "      <td>ORANGE</td>\n",
       "      <td>https://volcanoes.usgs.gov/images/icons/map/or...</td>\n",
       "      <td>2025-09-24 18:50:02</td>\n",
       "      <td>2025-09-24 18:50:02</td>\n",
       "      <td>https://volcanoes.usgs.gov/hans2/view/notice/D...</td>\n",
       "      <td>https://volcanoes.usgs.gov/vsc/api/hansApi/not...</td>\n",
       "      <td>Very High Threat</td>\n",
       "    </tr>\n",
       "  </tbody>\n",
       "</table>\n",
       "</div>"
      ],
      "text/plain": [
       "     vName     lat     long    vnum volcanoCd  \\\n",
       "0  Kilauea  19.421 -155.287  332010       hi3   \n",
       "\n",
       "                                     vUrl  \\\n",
       "0  https://www.usgs.gov/volcanoes/kilauea   \n",
       "\n",
       "                                              vImage  obs  region  \\\n",
       "0  https://volcanoes.usgs.gov/vsc/images/kilauea/...  hvo  Hawaii   \n",
       "\n",
       "                                 noticeId  \\\n",
       "0  DOI-USGS-HVO-2025-09-24T18:46:03+00:00   \n",
       "\n",
       "                                      noticeSynopsis alertLevel colorCode  \\\n",
       "0  HVO Kilauea ORANGE/WATCH - The Halemaʻumaʻu er...      WATCH    ORANGE   \n",
       "\n",
       "                                       statusIconUrl            alertDate  \\\n",
       "0  https://volcanoes.usgs.gov/images/icons/map/or...  2025-09-24 18:50:02   \n",
       "\n",
       "             colorDate                                          noticeUrl  \\\n",
       "0  2025-09-24 18:50:02  https://volcanoes.usgs.gov/hans2/view/notice/D...   \n",
       "\n",
       "                                   noticeSectionData       nvewsThreat  \n",
       "0  https://volcanoes.usgs.gov/vsc/api/hansApi/not...  Very High Threat  "
      ]
     },
     "execution_count": 22,
     "metadata": {},
     "output_type": "execute_result"
    }
   ],
   "source": [
    "df = pd.DataFrame(data, index=[0])\n",
    "df"
   ]
  },
  {
   "cell_type": "code",
   "execution_count": 23,
   "id": "17f3fba0",
   "metadata": {},
   "outputs": [],
   "source": [
    "df.to_csv(\"../../Data/Raw/hvo_sample_9_24_25.csv\")"
   ]
  },
  {
   "cell_type": "code",
   "execution_count": null,
   "id": "f1c82b0c",
   "metadata": {},
   "outputs": [],
   "source": []
  }
 ],
 "metadata": {
  "kernelspec": {
   "display_name": "venv (3.13.5)",
   "language": "python",
   "name": "python3"
  },
  "language_info": {
   "codemirror_mode": {
    "name": "ipython",
    "version": 3
   },
   "file_extension": ".py",
   "mimetype": "text/x-python",
   "name": "python",
   "nbconvert_exporter": "python",
   "pygments_lexer": "ipython3",
   "version": "3.13.5"
  }
 },
 "nbformat": 4,
 "nbformat_minor": 5
}
