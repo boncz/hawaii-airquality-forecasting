{
 "cells": [
  {
   "cell_type": "code",
   "execution_count": 1,
   "id": "875314ec",
   "metadata": {},
   "outputs": [],
   "source": [
    "import requests\n",
    "import pandas as pd\n",
    "import dotenv\n",
    "import os"
   ]
  },
  {
   "cell_type": "code",
   "execution_count": 2,
   "id": "29ba0f78",
   "metadata": {},
   "outputs": [],
   "source": [
    "# set email and key variables by retrieving from my .env file\n",
    "email = os.getenv(\"AQS_EMAIL\")\n",
    "key = os.getenv(\"AQS_KEY\")"
   ]
  },
  {
   "cell_type": "code",
   "execution_count": 3,
   "id": "e5f15ae9",
   "metadata": {},
   "outputs": [
    {
     "data": {
      "text/plain": [
       "200"
      ]
     },
     "execution_count": 3,
     "metadata": {},
     "output_type": "execute_result"
    }
   ],
   "source": [
    "# starting by trying to figure out the parameter information that I need for my first sample data query\n",
    "criteria_url = f\"https://aqs.epa.gov/data/api/list/parametersByClass?email={email}&key={key}&pc=CRITERIA\"\n",
    "criteria_response = requests.get(criteria_url)\n",
    "criteria_response.status_code"
   ]
  },
  {
   "cell_type": "markdown",
   "id": "44d249ba",
   "metadata": {},
   "source": [
    "9/23/25: The connection seems to be fine, but I'm getting a 503 error code - indicating that the server is currently unavailable due to high traffic. I was able to research and learn that for PM_2.5 local conditions I'll need param of 88101 and for state of Hawaii number 15.\n",
    "\n",
    "9/24/25: success! It took over one minute but returned a status code of 200"
   ]
  },
  {
   "cell_type": "code",
   "execution_count": 4,
   "id": "decc60ae",
   "metadata": {},
   "outputs": [],
   "source": [
    "# base url for sample data by state\n",
    "url = \"https://aqs.epa.gov/data/api/sampleData/byState\"\n",
    "state_number = \"15\"\n",
    "param = \"88101\"\n",
    "response = requests.get(f\"{url}?email={email}&key={key}&param={param}&bdate=20220101&edate=20220115&state={state_number}\")\n",
    "if response.status_code == 200:\n",
    "    sample_data = response.json()\n",
    "else:\n",
    "    print(\"error fetching data:\", response.status_code)\n"
   ]
  },
  {
   "cell_type": "markdown",
   "id": "05544cf9",
   "metadata": {},
   "source": [
    "9/23/25: substantial loading time, 503 error\n",
    "9/24/25: 200 success!"
   ]
  },
  {
   "cell_type": "code",
   "execution_count": 18,
   "id": "7da60e9f",
   "metadata": {},
   "outputs": [
    {
     "data": {
      "text/plain": [
       "dict_keys(['Header', 'Data'])"
      ]
     },
     "execution_count": 18,
     "metadata": {},
     "output_type": "execute_result"
    }
   ],
   "source": [
    "sample_data.keys()"
   ]
  },
  {
   "cell_type": "code",
   "execution_count": 8,
   "id": "ff8ab10a",
   "metadata": {},
   "outputs": [
    {
     "data": {
      "text/plain": [
       "list"
      ]
     },
     "execution_count": 8,
     "metadata": {},
     "output_type": "execute_result"
    }
   ],
   "source": [
    "type(sample_data['Data'])"
   ]
  },
  {
   "cell_type": "code",
   "execution_count": 9,
   "id": "ee2706ca",
   "metadata": {},
   "outputs": [
    {
     "data": {
      "text/plain": [
       "6813"
      ]
     },
     "execution_count": 9,
     "metadata": {},
     "output_type": "execute_result"
    }
   ],
   "source": [
    "len(sample_data['Data'])"
   ]
  },
  {
   "cell_type": "code",
   "execution_count": 11,
   "id": "5d12a2e7",
   "metadata": {},
   "outputs": [
    {
     "data": {
      "text/plain": [
       "{'state_code': '15',\n",
       " 'county_code': '001',\n",
       " 'site_number': '0005',\n",
       " 'parameter_code': '88101',\n",
       " 'poc': 1,\n",
       " 'latitude': 19.4308,\n",
       " 'longitude': -155.2578,\n",
       " 'datum': 'WGS84',\n",
       " 'parameter': 'PM2.5 - Local Conditions',\n",
       " 'date_local': '2022-01-01',\n",
       " 'time_local': '00:00',\n",
       " 'date_gmt': '2022-01-01',\n",
       " 'time_gmt': '10:00',\n",
       " 'sample_measurement': 3.0,\n",
       " 'units_of_measure': 'Micrograms/cubic meter (LC)',\n",
       " 'units_of_measure_code': '105',\n",
       " 'sample_duration': '1 HOUR',\n",
       " 'sample_duration_code': '1',\n",
       " 'sample_frequency': 'HOURLY',\n",
       " 'detection_limit': 5.0,\n",
       " 'uncertainty': None,\n",
       " 'qualifier': None,\n",
       " 'method_type': 'FEM',\n",
       " 'method': 'Met One BAM-1020 Mass Monitor w/VSCC - Beta Attenuation',\n",
       " 'method_code': '170',\n",
       " 'state': 'Hawaii',\n",
       " 'county': 'Hawaii',\n",
       " 'date_of_last_change': '2022-03-29',\n",
       " 'cbsa_code': '25900'}"
      ]
     },
     "execution_count": 11,
     "metadata": {},
     "output_type": "execute_result"
    }
   ],
   "source": [
    "sample_data['Data'][0]"
   ]
  },
  {
   "cell_type": "markdown",
   "id": "78853bb2",
   "metadata": {},
   "source": [
    "From exploring, I can see that I have a list of 6813 dictionaries that include all the information above. To be able to analyze better and also save, I'll conver the response into a dataframe."
   ]
  },
  {
   "cell_type": "code",
   "execution_count": null,
   "id": "0bdd937b",
   "metadata": {},
   "outputs": [],
   "source": [
    "df = pd.DataFrame(sample_data['Data'])"
   ]
  },
  {
   "cell_type": "code",
   "execution_count": 15,
   "id": "8185a868",
   "metadata": {},
   "outputs": [
    {
     "data": {
      "text/html": [
       "<div>\n",
       "<style scoped>\n",
       "    .dataframe tbody tr th:only-of-type {\n",
       "        vertical-align: middle;\n",
       "    }\n",
       "\n",
       "    .dataframe tbody tr th {\n",
       "        vertical-align: top;\n",
       "    }\n",
       "\n",
       "    .dataframe thead th {\n",
       "        text-align: right;\n",
       "    }\n",
       "</style>\n",
       "<table border=\"1\" class=\"dataframe\">\n",
       "  <thead>\n",
       "    <tr style=\"text-align: right;\">\n",
       "      <th></th>\n",
       "      <th>state_code</th>\n",
       "      <th>county_code</th>\n",
       "      <th>site_number</th>\n",
       "      <th>parameter_code</th>\n",
       "      <th>poc</th>\n",
       "      <th>latitude</th>\n",
       "      <th>longitude</th>\n",
       "      <th>datum</th>\n",
       "      <th>parameter</th>\n",
       "      <th>date_local</th>\n",
       "      <th>...</th>\n",
       "      <th>detection_limit</th>\n",
       "      <th>uncertainty</th>\n",
       "      <th>qualifier</th>\n",
       "      <th>method_type</th>\n",
       "      <th>method</th>\n",
       "      <th>method_code</th>\n",
       "      <th>state</th>\n",
       "      <th>county</th>\n",
       "      <th>date_of_last_change</th>\n",
       "      <th>cbsa_code</th>\n",
       "    </tr>\n",
       "  </thead>\n",
       "  <tbody>\n",
       "    <tr>\n",
       "      <th>0</th>\n",
       "      <td>15</td>\n",
       "      <td>001</td>\n",
       "      <td>0005</td>\n",
       "      <td>88101</td>\n",
       "      <td>1</td>\n",
       "      <td>19.4308</td>\n",
       "      <td>-155.2578</td>\n",
       "      <td>WGS84</td>\n",
       "      <td>PM2.5 - Local Conditions</td>\n",
       "      <td>2022-01-01</td>\n",
       "      <td>...</td>\n",
       "      <td>5.0</td>\n",
       "      <td>None</td>\n",
       "      <td>None</td>\n",
       "      <td>FEM</td>\n",
       "      <td>Met One BAM-1020 Mass Monitor w/VSCC - Beta At...</td>\n",
       "      <td>170</td>\n",
       "      <td>Hawaii</td>\n",
       "      <td>Hawaii</td>\n",
       "      <td>2022-03-29</td>\n",
       "      <td>25900</td>\n",
       "    </tr>\n",
       "    <tr>\n",
       "      <th>1</th>\n",
       "      <td>15</td>\n",
       "      <td>001</td>\n",
       "      <td>0005</td>\n",
       "      <td>88101</td>\n",
       "      <td>1</td>\n",
       "      <td>19.4308</td>\n",
       "      <td>-155.2578</td>\n",
       "      <td>WGS84</td>\n",
       "      <td>PM2.5 - Local Conditions</td>\n",
       "      <td>2022-01-01</td>\n",
       "      <td>...</td>\n",
       "      <td>5.0</td>\n",
       "      <td>None</td>\n",
       "      <td>None</td>\n",
       "      <td>FEM</td>\n",
       "      <td>Met One BAM-1020 Mass Monitor w/VSCC - Beta At...</td>\n",
       "      <td>170</td>\n",
       "      <td>Hawaii</td>\n",
       "      <td>Hawaii</td>\n",
       "      <td>2022-03-29</td>\n",
       "      <td>25900</td>\n",
       "    </tr>\n",
       "    <tr>\n",
       "      <th>2</th>\n",
       "      <td>15</td>\n",
       "      <td>001</td>\n",
       "      <td>0005</td>\n",
       "      <td>88101</td>\n",
       "      <td>1</td>\n",
       "      <td>19.4308</td>\n",
       "      <td>-155.2578</td>\n",
       "      <td>WGS84</td>\n",
       "      <td>PM2.5 - Local Conditions</td>\n",
       "      <td>2022-01-01</td>\n",
       "      <td>...</td>\n",
       "      <td>5.0</td>\n",
       "      <td>None</td>\n",
       "      <td>None</td>\n",
       "      <td>FEM</td>\n",
       "      <td>Met One BAM-1020 Mass Monitor w/VSCC - Beta At...</td>\n",
       "      <td>170</td>\n",
       "      <td>Hawaii</td>\n",
       "      <td>Hawaii</td>\n",
       "      <td>2022-03-29</td>\n",
       "      <td>25900</td>\n",
       "    </tr>\n",
       "    <tr>\n",
       "      <th>3</th>\n",
       "      <td>15</td>\n",
       "      <td>001</td>\n",
       "      <td>0005</td>\n",
       "      <td>88101</td>\n",
       "      <td>1</td>\n",
       "      <td>19.4308</td>\n",
       "      <td>-155.2578</td>\n",
       "      <td>WGS84</td>\n",
       "      <td>PM2.5 - Local Conditions</td>\n",
       "      <td>2022-01-01</td>\n",
       "      <td>...</td>\n",
       "      <td>5.0</td>\n",
       "      <td>None</td>\n",
       "      <td>None</td>\n",
       "      <td>FEM</td>\n",
       "      <td>Met One BAM-1020 Mass Monitor w/VSCC - Beta At...</td>\n",
       "      <td>170</td>\n",
       "      <td>Hawaii</td>\n",
       "      <td>Hawaii</td>\n",
       "      <td>2022-03-29</td>\n",
       "      <td>25900</td>\n",
       "    </tr>\n",
       "    <tr>\n",
       "      <th>4</th>\n",
       "      <td>15</td>\n",
       "      <td>001</td>\n",
       "      <td>0005</td>\n",
       "      <td>88101</td>\n",
       "      <td>1</td>\n",
       "      <td>19.4308</td>\n",
       "      <td>-155.2578</td>\n",
       "      <td>WGS84</td>\n",
       "      <td>PM2.5 - Local Conditions</td>\n",
       "      <td>2022-01-01</td>\n",
       "      <td>...</td>\n",
       "      <td>5.0</td>\n",
       "      <td>None</td>\n",
       "      <td>None</td>\n",
       "      <td>FEM</td>\n",
       "      <td>Met One BAM-1020 Mass Monitor w/VSCC - Beta At...</td>\n",
       "      <td>170</td>\n",
       "      <td>Hawaii</td>\n",
       "      <td>Hawaii</td>\n",
       "      <td>2022-03-29</td>\n",
       "      <td>25900</td>\n",
       "    </tr>\n",
       "  </tbody>\n",
       "</table>\n",
       "<p>5 rows × 29 columns</p>\n",
       "</div>"
      ],
      "text/plain": [
       "  state_code county_code site_number parameter_code  poc  latitude  longitude  \\\n",
       "0         15         001        0005          88101    1   19.4308  -155.2578   \n",
       "1         15         001        0005          88101    1   19.4308  -155.2578   \n",
       "2         15         001        0005          88101    1   19.4308  -155.2578   \n",
       "3         15         001        0005          88101    1   19.4308  -155.2578   \n",
       "4         15         001        0005          88101    1   19.4308  -155.2578   \n",
       "\n",
       "   datum                 parameter  date_local  ... detection_limit  \\\n",
       "0  WGS84  PM2.5 - Local Conditions  2022-01-01  ...             5.0   \n",
       "1  WGS84  PM2.5 - Local Conditions  2022-01-01  ...             5.0   \n",
       "2  WGS84  PM2.5 - Local Conditions  2022-01-01  ...             5.0   \n",
       "3  WGS84  PM2.5 - Local Conditions  2022-01-01  ...             5.0   \n",
       "4  WGS84  PM2.5 - Local Conditions  2022-01-01  ...             5.0   \n",
       "\n",
       "  uncertainty qualifier  method_type  \\\n",
       "0        None      None          FEM   \n",
       "1        None      None          FEM   \n",
       "2        None      None          FEM   \n",
       "3        None      None          FEM   \n",
       "4        None      None          FEM   \n",
       "\n",
       "                                              method method_code   state  \\\n",
       "0  Met One BAM-1020 Mass Monitor w/VSCC - Beta At...         170  Hawaii   \n",
       "1  Met One BAM-1020 Mass Monitor w/VSCC - Beta At...         170  Hawaii   \n",
       "2  Met One BAM-1020 Mass Monitor w/VSCC - Beta At...         170  Hawaii   \n",
       "3  Met One BAM-1020 Mass Monitor w/VSCC - Beta At...         170  Hawaii   \n",
       "4  Met One BAM-1020 Mass Monitor w/VSCC - Beta At...         170  Hawaii   \n",
       "\n",
       "   county date_of_last_change  cbsa_code  \n",
       "0  Hawaii          2022-03-29      25900  \n",
       "1  Hawaii          2022-03-29      25900  \n",
       "2  Hawaii          2022-03-29      25900  \n",
       "3  Hawaii          2022-03-29      25900  \n",
       "4  Hawaii          2022-03-29      25900  \n",
       "\n",
       "[5 rows x 29 columns]"
      ]
     },
     "execution_count": 15,
     "metadata": {},
     "output_type": "execute_result"
    }
   ],
   "source": [
    "df.head()"
   ]
  },
  {
   "cell_type": "code",
   "execution_count": 19,
   "id": "3025f4dc",
   "metadata": {},
   "outputs": [],
   "source": [
    "df.to_csv(\"../../Data/Raw/aqs_sample_9_24_25.csv\")"
   ]
  },
  {
   "cell_type": "code",
   "execution_count": null,
   "id": "470ec0d2",
   "metadata": {},
   "outputs": [],
   "source": []
  }
 ],
 "metadata": {
  "kernelspec": {
   "display_name": "venv (3.13.5)",
   "language": "python",
   "name": "python3"
  },
  "language_info": {
   "codemirror_mode": {
    "name": "ipython",
    "version": 3
   },
   "file_extension": ".py",
   "mimetype": "text/x-python",
   "name": "python",
   "nbconvert_exporter": "python",
   "pygments_lexer": "ipython3",
   "version": "3.13.5"
  }
 },
 "nbformat": 4,
 "nbformat_minor": 5
}
