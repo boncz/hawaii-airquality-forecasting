{
 "cells": [
  {
   "cell_type": "code",
   "execution_count": null,
   "id": "875314ec",
   "metadata": {},
   "outputs": [],
   "source": [
    "import requests\n",
    "import pandas as pd\n",
    "import dotenv\n",
    "import os"
   ]
  },
  {
   "cell_type": "code",
   "execution_count": null,
   "id": "29ba0f78",
   "metadata": {},
   "outputs": [],
   "source": [
    "# set email and key variables by retrieving from my .env file\n",
    "email = os.getenv(\"AQS_EMAIL\")\n",
    "key = os.getenv(\"AQS_KEY\")"
   ]
  },
  {
   "cell_type": "code",
   "execution_count": null,
   "id": "e5f15ae9",
   "metadata": {},
   "outputs": [],
   "source": [
    "# starting by trying to figure out the parameter information that I need for my first sample data query\n",
    "criteria_url = f\"https://aqs.epa.gov/data/api/list/parametersByClass?email={email}&key={key}&pc=CRITERIA\"\n",
    "criteria_response = requests.get(criteria_url)\n",
    "criteria_response.status_code"
   ]
  },
  {
   "cell_type": "markdown",
   "id": "44d249ba",
   "metadata": {},
   "source": [
    "The connection seems to be fine, but I'm getting a 503 error code - indicating that the server is currently unavailable due to high traffic. I was able to research and learn that for PM_2.5 local conditions I'll need param of 88101 and for state of Hawaii number 15."
   ]
  },
  {
   "cell_type": "code",
   "execution_count": null,
   "id": "decc60ae",
   "metadata": {},
   "outputs": [],
   "source": [
    "# base url for sample data by state\n",
    "url = \"https://aqs.epa.gov/data/api/sampleData/byState\"\n",
    "state_number = \"15\"\n",
    "param = \"88101\"\n",
    "response = requests.get(f\"{url}?email={email}&key={key}&param={param}&bdate=20220101&edate=20220115&state={state_number}\")\n",
    "if response.status_code == 200:\n",
    "    sample_data = response.json()\n",
    "else:\n",
    "    print(\"error fetching data:\", response.status_code)\n"
   ]
  },
  {
   "cell_type": "markdown",
   "id": "05544cf9",
   "metadata": {},
   "source": [
    "The cell above runs for a substantial amount of time before crashing. Initially it gave me the same 503 error code, but now it's more complicated.\n",
    "\n",
    "I'm a little nervous at this response, as it is currently 10:45pm local time here in Hawaii. I'll continue to try again later and at different times and investigate what the issue is."
   ]
  },
  {
   "cell_type": "code",
   "execution_count": null,
   "id": "7da60e9f",
   "metadata": {},
   "outputs": [],
   "source": []
  }
 ],
 "metadata": {
  "language_info": {
   "name": "python"
  }
 },
 "nbformat": 4,
 "nbformat_minor": 5
}
