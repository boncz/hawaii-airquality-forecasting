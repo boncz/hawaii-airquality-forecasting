{
 "cells": [
  {
   "cell_type": "code",
   "execution_count": 1,
   "id": "df852b7c",
   "metadata": {},
   "outputs": [],
   "source": [
    "import requests\n",
    "import pandas as pd\n",
    "import dotenv\n",
    "import os"
   ]
  },
  {
   "cell_type": "code",
   "execution_count": 14,
   "id": "84c18524",
   "metadata": {},
   "outputs": [
    {
     "name": "stdout",
     "output_type": "stream",
     "text": [
      "get request success!\n"
     ]
    }
   ],
   "source": [
    "# set key variable by retrieving from my .env file\n",
    "key = os.getenv(\"AIRNOW_KEY\")\n",
    "\n",
    "# research shows that the latlong requests are more reliable than the zipcode requests. latlong_url below is for Hilo, Hawaii and the surrounding distance of 10 miles\n",
    "latlong_url = (\n",
    "    \"https://www.airnowapi.org/aq/observation/latLong/current/\"\n",
    "    \"?format=application/json&latitude=19.7297&longitude=-155.09&distance=10\"\n",
    "    f\"&API_KEY={key}\"\n",
    ")\n",
    "\n",
    "# get request for airnow api using latlong_url\n",
    "response = requests.get(latlong_url)\n",
    "if response.status_code == 200:\n",
    "    data = response.json()\n",
    "    print(\"get request success!\")\n",
    "else:\n",
    "    print(\"error fetching data: \", response.status_code)\n"
   ]
  },
  {
   "cell_type": "code",
   "execution_count": null,
   "id": "380c1fa1",
   "metadata": {},
   "outputs": [
    {
     "data": {
      "text/plain": [
       "[{'DateObserved': '2025-09-23',\n",
       "  'HourObserved': 23,\n",
       "  'LocalTimeZone': 'HST',\n",
       "  'ReportingArea': 'Hilo',\n",
       "  'StateCode': 'HI',\n",
       "  'Latitude': 19.7175,\n",
       "  'Longitude': -155.1103,\n",
       "  'ParameterName': 'PM2.5',\n",
       "  'AQI': 15,\n",
       "  'Category': {'Number': 1, 'Name': 'Good'}}]"
      ]
     },
     "execution_count": 15,
     "metadata": {},
     "output_type": "execute_result"
    }
   ],
   "source": [
    "# explore the data returned\n",
    "data"
   ]
  },
  {
   "cell_type": "markdown",
   "id": "41ddc3a4",
   "metadata": {},
   "source": []
  }
 ],
 "metadata": {
  "kernelspec": {
   "display_name": "venv (3.13.5)",
   "language": "python",
   "name": "python3"
  },
  "language_info": {
   "codemirror_mode": {
    "name": "ipython",
    "version": 3
   },
   "file_extension": ".py",
   "mimetype": "text/x-python",
   "name": "python",
   "nbconvert_exporter": "python",
   "pygments_lexer": "ipython3",
   "version": "3.13.5"
  }
 },
 "nbformat": 4,
 "nbformat_minor": 5
}
