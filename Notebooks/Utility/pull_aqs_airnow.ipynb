{
 "cells": [
  {
   "cell_type": "code",
   "execution_count": 1,
   "id": "df852b7c",
   "metadata": {},
   "outputs": [],
   "source": [
    "import requests\n",
    "import pandas as pd\n",
    "import dotenv\n",
    "import os"
   ]
  },
  {
   "cell_type": "code",
   "execution_count": 2,
   "id": "84c18524",
   "metadata": {},
   "outputs": [
    {
     "name": "stdout",
     "output_type": "stream",
     "text": [
      "get request success!\n"
     ]
    }
   ],
   "source": [
    "# set key variable by retrieving from my .env file\n",
    "key = os.getenv(\"AIRNOW_KEY\")\n",
    "\n",
    "# research shows that the latlong requests are more reliable than the zipcode requests. latlong_url below is for Hilo, Hawaii and the surrounding distance of 10 miles\n",
    "latlong_url = (\n",
    "    \"https://www.airnowapi.org/aq/observation/latLong/current/\"\n",
    "    \"?format=application/json&latitude=19.7297&longitude=-155.09&distance=10\"\n",
    "    f\"&API_KEY={key}\"\n",
    ")\n",
    "\n",
    "# get request for airnow api using latlong_url\n",
    "response = requests.get(latlong_url)\n",
    "if response.status_code == 200:\n",
    "    data = response.json()\n",
    "    print(\"get request success!\")\n",
    "else:\n",
    "    print(\"error fetching data: \", response.status_code)\n"
   ]
  },
  {
   "cell_type": "code",
   "execution_count": 4,
   "id": "380c1fa1",
   "metadata": {},
   "outputs": [
    {
     "data": {
      "text/plain": [
       "[{'DateObserved': '2025-09-24',\n",
       "  'HourObserved': 21,\n",
       "  'LocalTimeZone': 'HST',\n",
       "  'ReportingArea': 'Hilo',\n",
       "  'StateCode': 'HI',\n",
       "  'Latitude': 19.7175,\n",
       "  'Longitude': -155.1103,\n",
       "  'ParameterName': 'PM2.5',\n",
       "  'AQI': 10,\n",
       "  'Category': {'Number': 1, 'Name': 'Good'}}]"
      ]
     },
     "execution_count": 4,
     "metadata": {},
     "output_type": "execute_result"
    }
   ],
   "source": [
    "# explore the data returned\n",
    "data"
   ]
  },
  {
   "cell_type": "code",
   "execution_count": 5,
   "id": "cfc283a2",
   "metadata": {},
   "outputs": [
    {
     "data": {
      "text/html": [
       "<div>\n",
       "<style scoped>\n",
       "    .dataframe tbody tr th:only-of-type {\n",
       "        vertical-align: middle;\n",
       "    }\n",
       "\n",
       "    .dataframe tbody tr th {\n",
       "        vertical-align: top;\n",
       "    }\n",
       "\n",
       "    .dataframe thead th {\n",
       "        text-align: right;\n",
       "    }\n",
       "</style>\n",
       "<table border=\"1\" class=\"dataframe\">\n",
       "  <thead>\n",
       "    <tr style=\"text-align: right;\">\n",
       "      <th></th>\n",
       "      <th>DateObserved</th>\n",
       "      <th>HourObserved</th>\n",
       "      <th>LocalTimeZone</th>\n",
       "      <th>ReportingArea</th>\n",
       "      <th>StateCode</th>\n",
       "      <th>Latitude</th>\n",
       "      <th>Longitude</th>\n",
       "      <th>ParameterName</th>\n",
       "      <th>AQI</th>\n",
       "      <th>Category</th>\n",
       "    </tr>\n",
       "  </thead>\n",
       "  <tbody>\n",
       "    <tr>\n",
       "      <th>0</th>\n",
       "      <td>2025-09-24</td>\n",
       "      <td>21</td>\n",
       "      <td>HST</td>\n",
       "      <td>Hilo</td>\n",
       "      <td>HI</td>\n",
       "      <td>19.7175</td>\n",
       "      <td>-155.1103</td>\n",
       "      <td>PM2.5</td>\n",
       "      <td>10</td>\n",
       "      <td>{'Number': 1, 'Name': 'Good'}</td>\n",
       "    </tr>\n",
       "  </tbody>\n",
       "</table>\n",
       "</div>"
      ],
      "text/plain": [
       "  DateObserved  HourObserved LocalTimeZone ReportingArea StateCode  Latitude  \\\n",
       "0   2025-09-24            21           HST          Hilo        HI   19.7175   \n",
       "\n",
       "   Longitude ParameterName  AQI                       Category  \n",
       "0  -155.1103         PM2.5   10  {'Number': 1, 'Name': 'Good'}  "
      ]
     },
     "execution_count": 5,
     "metadata": {},
     "output_type": "execute_result"
    }
   ],
   "source": [
    "df = pd.DataFrame(data)\n",
    "df"
   ]
  },
  {
   "cell_type": "code",
   "execution_count": 6,
   "id": "75e6daa9",
   "metadata": {},
   "outputs": [],
   "source": [
    "df.to_csv(\"../../Data/Raw/airnow_sample_9_23_25.csv\")"
   ]
  },
  {
   "cell_type": "code",
   "execution_count": null,
   "id": "26ffe470",
   "metadata": {},
   "outputs": [],
   "source": []
  }
 ],
 "metadata": {
  "kernelspec": {
   "display_name": "venv (3.13.5)",
   "language": "python",
   "name": "python3"
  },
  "language_info": {
   "codemirror_mode": {
    "name": "ipython",
    "version": 3
   },
   "file_extension": ".py",
   "mimetype": "text/x-python",
   "name": "python",
   "nbconvert_exporter": "python",
   "pygments_lexer": "ipython3",
   "version": "3.13.5"
  }
 },
 "nbformat": 4,
 "nbformat_minor": 5
}
