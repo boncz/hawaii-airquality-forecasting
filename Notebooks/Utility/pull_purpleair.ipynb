{
 "cells": [
  {
   "cell_type": "code",
   "execution_count": null,
   "id": "e646b9a4",
   "metadata": {},
   "outputs": [],
   "source": [
    "import requests\n",
    "import os\n",
    "import pandas as pd"
   ]
  },
  {
   "cell_type": "code",
   "execution_count": 13,
   "id": "67ea61d9",
   "metadata": {},
   "outputs": [
    {
     "name": "stdout",
     "output_type": "stream",
     "text": [
      "Status: 200\n",
      "get request success!\n"
     ]
    }
   ],
   "source": [
    "key = os.getenv(\"PURPLEAIR_KEY\")\n",
    "\n",
    "params = dict(\n",
    "    fields=\"sensor_index,name,latitude,longitude,pm2.5_atm,last_seen\",\n",
    "    #location type 0 indicates outdoor sensors\n",
    "    location_type=0,   \n",
    "    #setting lat/longs for the corners to create a range of area around Hilo\n",
    "    nwlng=-155.5, nwlat=20.2,  \n",
    "    selng=-154.7, selat=19.3   \n",
    ")\n",
    "\n",
    "url = \"https://api.purpleair.com/v1/sensors\"\n",
    "headers = {\"X-API-Key\": key}\n",
    "\n",
    "response = requests.get(url, params=params, headers=headers, timeout=20)\n",
    "print(\"Status:\", response.status_code)\n",
    "if response.status_code == 200:\n",
    "    print(\"get request success!\")\n",
    "else:\n",
    "    print(\"error fetching data:\", response.status_code)\n",
    "\n"
   ]
  },
  {
   "cell_type": "code",
   "execution_count": 14,
   "id": "749b4817",
   "metadata": {},
   "outputs": [
    {
     "name": "stdout",
     "output_type": "stream",
     "text": [
      "Keys: dict_keys(['api_version', 'time_stamp', 'data_time_stamp', 'location_type', 'max_age', 'firmware_default_version', 'fields', 'data'])\n",
      "Fields: ['sensor_index', 'last_seen', 'name', 'latitude', 'longitude', 'pm2.5_atm']\n",
      "Num records: 9\n"
     ]
    }
   ],
   "source": [
    "data = response.json()\n",
    "print(\"Keys:\", data.keys())\n",
    "print(\"Fields:\", data[\"fields\"])\n",
    "print(\"Num records:\", len(data[\"data\"]))"
   ]
  },
  {
   "cell_type": "code",
   "execution_count": 12,
   "id": "5abd6477",
   "metadata": {},
   "outputs": [
    {
     "name": "stdout",
     "output_type": "stream",
     "text": [
      "   sensor_index   last_seen           name   latitude  longitude  pm2.5_atm\n",
      "0         12062  1758785313        Honokaa  20.067993 -155.46208        0.0\n",
      "1         70191  1758785302  HAVO Rainshed  19.430813 -155.25780        0.0\n",
      "2        123663  1758785348        Volcano  19.451317 -155.24246        0.0\n",
      "3        169685  1758785363   Ninole Makai  19.947739 -155.17891        0.0\n",
      "4        169961  1758785347        Ainaloa  19.527859 -154.99074        2.8\n"
     ]
    }
   ],
   "source": [
    "df = pd.DataFrame(j[\"data\"], columns=j[\"fields\"])\n",
    "print(df.head())"
   ]
  },
  {
   "cell_type": "code",
   "execution_count": 15,
   "id": "59195bc9",
   "metadata": {},
   "outputs": [],
   "source": [
    "df.to_csv(\"../../Data/Raw/purpleair_sample_9_24_25.csv\")"
   ]
  },
  {
   "cell_type": "code",
   "execution_count": null,
   "id": "7c8b0cab",
   "metadata": {},
   "outputs": [],
   "source": []
  }
 ],
 "metadata": {
  "kernelspec": {
   "display_name": "venv (3.13.5)",
   "language": "python",
   "name": "python3"
  },
  "language_info": {
   "codemirror_mode": {
    "name": "ipython",
    "version": 3
   },
   "file_extension": ".py",
   "mimetype": "text/x-python",
   "name": "python",
   "nbconvert_exporter": "python",
   "pygments_lexer": "ipython3",
   "version": "3.13.5"
  }
 },
 "nbformat": 4,
 "nbformat_minor": 5
}
