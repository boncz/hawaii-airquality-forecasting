{
 "cells": [
  {
   "cell_type": "code",
   "execution_count": 3,
   "id": "06e2c0c5",
   "metadata": {},
   "outputs": [
    {
     "name": "stdout",
     "output_type": "stream",
     "text": [
      "env keys present\n"
     ]
    }
   ],
   "source": [
    "#verifying that dotenv is working as I expect\n",
    "from dotenv import load_dotenv\n",
    "import os\n",
    "load_dotenv()\n",
    "assert os.getenv(\"AQS_KEY\") and os.getenv(\"AQS_EMAIL\")\n",
    "assert os.getenv(\"AIRNOW_KEY\")\n",
    "assert os.getenv(\"PURPLEAIR_KEY\")\n",
    "print(\"env keys present\")\n"
   ]
  }
 ],
 "metadata": {
  "kernelspec": {
   "display_name": "venv (3.13.5)",
   "language": "python",
   "name": "python3"
  },
  "language_info": {
   "codemirror_mode": {
    "name": "ipython",
    "version": 3
   },
   "file_extension": ".py",
   "mimetype": "text/x-python",
   "name": "python",
   "nbconvert_exporter": "python",
   "pygments_lexer": "ipython3",
   "version": "3.13.5"
  }
 },
 "nbformat": 4,
 "nbformat_minor": 5
}
